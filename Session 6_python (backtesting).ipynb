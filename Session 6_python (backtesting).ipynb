{
 "cells": [
  {
   "cell_type": "code",
   "execution_count": 3,
   "metadata": {
    "scrolled": true
   },
   "outputs": [
    {
     "name": "stdout",
     "output_type": "stream",
     "text": [
      "MSFE [[ 4.15448246]\n",
      " [12.72446244]]\n",
      "MAPE % [[2.63094309]\n",
      " [4.77506414]]\n"
     ]
    }
   ],
   "source": [
    "import pandas as pd\n",
    "import numpy as np\n",
    "import statsmodels.api as sm\n",
    "from statsmodels.tsa.statespace.sarimax import SARIMAX\n",
    "from statsmodels.tsa.arima_model import ARIMA\n",
    "\n",
    "data = pd.read_csv(\"Session6Forum.csv\", sep=\";\", decimal=\",\")\n",
    "y = data.iloc[:,3]\n",
    "\n",
    "long = len(y)\n",
    "n_estimation = 400\n",
    "real = y[(n_estimation):len(y)]\n",
    "\n",
    "n_forecasting = long - n_estimation\n",
    "horizontes = 2\n",
    "\n",
    "predicc = np.zeros((horizontes,n_forecasting))\n",
    "MSFE = np.zeros((horizontes, 1))\n",
    "MAPE = np.zeros((horizontes, 1))\n",
    "\n",
    "for Periods_ahead in range(horizontes):\n",
    "    for i in range(0,n_forecasting):\n",
    "        aux_y = y[0:(n_estimation - Periods_ahead + i)]\n",
    "        model = ARIMA(aux_y, order = (1,1,0))\n",
    "        model_fit=model.fit(disp=0)\n",
    "        y_pred = model_fit.forecast(Periods_ahead + 1)\n",
    "        predicc[Periods_ahead][i] = y_pred[0][Periods_ahead]\n",
    "        \n",
    "    error = np.array(real) - predicc[Periods_ahead]\n",
    "    MSFE[Periods_ahead] = np.mean(error**2)\n",
    "    MAPE[Periods_ahead] = np.mean(np.abs(error/np.array(real))) * 100\n",
    "\n",
    "df_pred = pd.DataFrame({\"V1\":predicc[0], \"V2\":predicc[1]})\n",
    "\n",
    "\n",
    "print(\"MSFE\",MSFE)\n",
    "print(\"MAPE %\",MAPE)\n"
   ]
  },
  {
   "cell_type": "code",
   "execution_count": null,
   "metadata": {},
   "outputs": [],
   "source": []
  }
 ],
 "metadata": {
  "kernelspec": {
   "display_name": "Python 3",
   "language": "python",
   "name": "python3"
  },
  "language_info": {
   "codemirror_mode": {
    "name": "ipython",
    "version": 3
   },
   "file_extension": ".py",
   "mimetype": "text/x-python",
   "name": "python",
   "nbconvert_exporter": "python",
   "pygments_lexer": "ipython3",
   "version": "3.7.3"
  }
 },
 "nbformat": 4,
 "nbformat_minor": 2
}
